{
 "cells": [
  {
   "cell_type": "markdown",
   "metadata": {
    "id": "DyNaijtsqXQM"
   },
   "source": [
    "# Directory, Libraries and Data"
   ]
  },
  {
   "cell_type": "code",
   "execution_count": 32,
   "metadata": {
    "executionInfo": {
     "elapsed": 945,
     "status": "ok",
     "timestamp": 1669123281387,
     "user": {
      "displayName": "Diogo Resende",
      "userId": "05706604408624562002"
     },
     "user_tz": -60
    },
    "id": "5zMDLuHmqnyf"
   },
   "outputs": [],
   "source": [
    "#Import Libraries \n",
    "import pandas as pd\n",
    "import numpy as np\n",
    "import seaborn as sns\n",
    "import scipy.stats as ss\n",
    "from causalinference import CausalModel"
   ]
  },
  {
   "cell_type": "code",
   "execution_count": 33,
   "metadata": {
    "colab": {
     "base_uri": "https://localhost:8080/",
     "height": 386
    },
    "executionInfo": {
     "elapsed": 450,
     "status": "ok",
     "timestamp": 1669123282597,
     "user": {
      "displayName": "Diogo Resende",
      "userId": "05706604408624562002"
     },
     "user_tz": -60
    },
    "id": "9GhpFTZBqzBz",
    "outputId": "2b6774aa-1e15-4844-cb6f-443f678fcda9"
   },
   "outputs": [
    {
     "data": {
      "application/vnd.microsoft.datawrangler.viewer.v0+json": {
       "columns": [
        {
         "name": "index",
         "rawType": "int64",
         "type": "integer"
        },
        {
         "name": "Country",
         "rawType": "object",
         "type": "string"
        },
        {
         "name": "Salary",
         "rawType": "float64",
         "type": "float"
        },
        {
         "name": "YearsCodedJob",
         "rawType": "int64",
         "type": "integer"
        },
        {
         "name": "OpenSource",
         "rawType": "int64",
         "type": "integer"
        },
        {
         "name": "Hobby",
         "rawType": "int64",
         "type": "integer"
        },
        {
         "name": "CompanySizeNumber",
         "rawType": "int64",
         "type": "integer"
        },
        {
         "name": "Remote",
         "rawType": "object",
         "type": "string"
        },
        {
         "name": "CareerSatisfaction",
         "rawType": "int64",
         "type": "integer"
        },
        {
         "name": "Data_scientist",
         "rawType": "int64",
         "type": "integer"
        },
        {
         "name": "Database_administrator",
         "rawType": "int64",
         "type": "integer"
        },
        {
         "name": "Desktop_applications_developer",
         "rawType": "int64",
         "type": "integer"
        },
        {
         "name": "Developer_with_stats_math_background",
         "rawType": "int64",
         "type": "integer"
        },
        {
         "name": "DevOps",
         "rawType": "int64",
         "type": "integer"
        },
        {
         "name": "Embedded_developer",
         "rawType": "int64",
         "type": "integer"
        },
        {
         "name": "Graphic_designer",
         "rawType": "int64",
         "type": "integer"
        },
        {
         "name": "Graphics_programming",
         "rawType": "int64",
         "type": "integer"
        },
        {
         "name": "Machine_learning_specialist",
         "rawType": "int64",
         "type": "integer"
        },
        {
         "name": "Mobile_developer",
         "rawType": "int64",
         "type": "integer"
        },
        {
         "name": "Quality_assurance_engineer",
         "rawType": "int64",
         "type": "integer"
        },
        {
         "name": "Systems_administrator",
         "rawType": "int64",
         "type": "integer"
        },
        {
         "name": "Web_developer",
         "rawType": "int64",
         "type": "integer"
        }
       ],
       "ref": "ba2b95e1-f21f-4b24-9dc7-cc58f50c8fa6",
       "rows": [
        [
         "0",
         "United Kingdom",
         "100000.0",
         "20",
         "0",
         "1",
         "5000",
         "Remote",
         "8",
         "0",
         "0",
         "0",
         "0",
         "0",
         "1",
         "0",
         "0",
         "0",
         "0",
         "0",
         "0",
         "0"
        ],
        [
         "1",
         "United States",
         "130000.0",
         "20",
         "1",
         "1",
         "1000",
         "Remote",
         "9",
         "0",
         "0",
         "0",
         "0",
         "1",
         "1",
         "0",
         "0",
         "0",
         "0",
         "1",
         "0",
         "1"
        ],
        [
         "2",
         "United States",
         "175000.0",
         "16",
         "0",
         "1",
         "10000",
         "Not remote",
         "7",
         "0",
         "0",
         "0",
         "0",
         "0",
         "0",
         "0",
         "0",
         "0",
         "0",
         "0",
         "0",
         "1"
        ],
        [
         "3",
         "Germany",
         "64516.12903",
         "4",
         "0",
         "0",
         "1000",
         "Not remote",
         "9",
         "0",
         "0",
         "0",
         "0",
         "0",
         "0",
         "0",
         "0",
         "0",
         "0",
         "0",
         "0",
         "1"
        ],
        [
         "4",
         "India",
         "6636.323594",
         "1",
         "0",
         "1",
         "5000",
         "Not remote",
         "5",
         "0",
         "0",
         "0",
         "0",
         "0",
         "0",
         "0",
         "0",
         "0",
         "0",
         "0",
         "0",
         "1"
        ]
       ],
       "shape": {
        "columns": 21,
        "rows": 5
       }
      },
      "text/html": [
       "<div>\n",
       "<style scoped>\n",
       "    .dataframe tbody tr th:only-of-type {\n",
       "        vertical-align: middle;\n",
       "    }\n",
       "\n",
       "    .dataframe tbody tr th {\n",
       "        vertical-align: top;\n",
       "    }\n",
       "\n",
       "    .dataframe thead th {\n",
       "        text-align: right;\n",
       "    }\n",
       "</style>\n",
       "<table border=\"1\" class=\"dataframe\">\n",
       "  <thead>\n",
       "    <tr style=\"text-align: right;\">\n",
       "      <th></th>\n",
       "      <th>Country</th>\n",
       "      <th>Salary</th>\n",
       "      <th>YearsCodedJob</th>\n",
       "      <th>OpenSource</th>\n",
       "      <th>Hobby</th>\n",
       "      <th>CompanySizeNumber</th>\n",
       "      <th>Remote</th>\n",
       "      <th>CareerSatisfaction</th>\n",
       "      <th>Data_scientist</th>\n",
       "      <th>Database_administrator</th>\n",
       "      <th>...</th>\n",
       "      <th>Developer_with_stats_math_background</th>\n",
       "      <th>DevOps</th>\n",
       "      <th>Embedded_developer</th>\n",
       "      <th>Graphic_designer</th>\n",
       "      <th>Graphics_programming</th>\n",
       "      <th>Machine_learning_specialist</th>\n",
       "      <th>Mobile_developer</th>\n",
       "      <th>Quality_assurance_engineer</th>\n",
       "      <th>Systems_administrator</th>\n",
       "      <th>Web_developer</th>\n",
       "    </tr>\n",
       "  </thead>\n",
       "  <tbody>\n",
       "    <tr>\n",
       "      <th>0</th>\n",
       "      <td>United Kingdom</td>\n",
       "      <td>100000.000000</td>\n",
       "      <td>20</td>\n",
       "      <td>0</td>\n",
       "      <td>1</td>\n",
       "      <td>5000</td>\n",
       "      <td>Remote</td>\n",
       "      <td>8</td>\n",
       "      <td>0</td>\n",
       "      <td>0</td>\n",
       "      <td>...</td>\n",
       "      <td>0</td>\n",
       "      <td>0</td>\n",
       "      <td>1</td>\n",
       "      <td>0</td>\n",
       "      <td>0</td>\n",
       "      <td>0</td>\n",
       "      <td>0</td>\n",
       "      <td>0</td>\n",
       "      <td>0</td>\n",
       "      <td>0</td>\n",
       "    </tr>\n",
       "    <tr>\n",
       "      <th>1</th>\n",
       "      <td>United States</td>\n",
       "      <td>130000.000000</td>\n",
       "      <td>20</td>\n",
       "      <td>1</td>\n",
       "      <td>1</td>\n",
       "      <td>1000</td>\n",
       "      <td>Remote</td>\n",
       "      <td>9</td>\n",
       "      <td>0</td>\n",
       "      <td>0</td>\n",
       "      <td>...</td>\n",
       "      <td>0</td>\n",
       "      <td>1</td>\n",
       "      <td>1</td>\n",
       "      <td>0</td>\n",
       "      <td>0</td>\n",
       "      <td>0</td>\n",
       "      <td>0</td>\n",
       "      <td>1</td>\n",
       "      <td>0</td>\n",
       "      <td>1</td>\n",
       "    </tr>\n",
       "    <tr>\n",
       "      <th>2</th>\n",
       "      <td>United States</td>\n",
       "      <td>175000.000000</td>\n",
       "      <td>16</td>\n",
       "      <td>0</td>\n",
       "      <td>1</td>\n",
       "      <td>10000</td>\n",
       "      <td>Not remote</td>\n",
       "      <td>7</td>\n",
       "      <td>0</td>\n",
       "      <td>0</td>\n",
       "      <td>...</td>\n",
       "      <td>0</td>\n",
       "      <td>0</td>\n",
       "      <td>0</td>\n",
       "      <td>0</td>\n",
       "      <td>0</td>\n",
       "      <td>0</td>\n",
       "      <td>0</td>\n",
       "      <td>0</td>\n",
       "      <td>0</td>\n",
       "      <td>1</td>\n",
       "    </tr>\n",
       "    <tr>\n",
       "      <th>3</th>\n",
       "      <td>Germany</td>\n",
       "      <td>64516.129030</td>\n",
       "      <td>4</td>\n",
       "      <td>0</td>\n",
       "      <td>0</td>\n",
       "      <td>1000</td>\n",
       "      <td>Not remote</td>\n",
       "      <td>9</td>\n",
       "      <td>0</td>\n",
       "      <td>0</td>\n",
       "      <td>...</td>\n",
       "      <td>0</td>\n",
       "      <td>0</td>\n",
       "      <td>0</td>\n",
       "      <td>0</td>\n",
       "      <td>0</td>\n",
       "      <td>0</td>\n",
       "      <td>0</td>\n",
       "      <td>0</td>\n",
       "      <td>0</td>\n",
       "      <td>1</td>\n",
       "    </tr>\n",
       "    <tr>\n",
       "      <th>4</th>\n",
       "      <td>India</td>\n",
       "      <td>6636.323594</td>\n",
       "      <td>1</td>\n",
       "      <td>0</td>\n",
       "      <td>1</td>\n",
       "      <td>5000</td>\n",
       "      <td>Not remote</td>\n",
       "      <td>5</td>\n",
       "      <td>0</td>\n",
       "      <td>0</td>\n",
       "      <td>...</td>\n",
       "      <td>0</td>\n",
       "      <td>0</td>\n",
       "      <td>0</td>\n",
       "      <td>0</td>\n",
       "      <td>0</td>\n",
       "      <td>0</td>\n",
       "      <td>0</td>\n",
       "      <td>0</td>\n",
       "      <td>0</td>\n",
       "      <td>1</td>\n",
       "    </tr>\n",
       "  </tbody>\n",
       "</table>\n",
       "<p>5 rows × 21 columns</p>\n",
       "</div>"
      ],
      "text/plain": [
       "          Country         Salary  YearsCodedJob  OpenSource  Hobby  \\\n",
       "0  United Kingdom  100000.000000             20           0      1   \n",
       "1   United States  130000.000000             20           1      1   \n",
       "2   United States  175000.000000             16           0      1   \n",
       "3         Germany   64516.129030              4           0      0   \n",
       "4           India    6636.323594              1           0      1   \n",
       "\n",
       "   CompanySizeNumber      Remote  CareerSatisfaction  Data_scientist  \\\n",
       "0               5000      Remote                   8               0   \n",
       "1               1000      Remote                   9               0   \n",
       "2              10000  Not remote                   7               0   \n",
       "3               1000  Not remote                   9               0   \n",
       "4               5000  Not remote                   5               0   \n",
       "\n",
       "   Database_administrator  ...  Developer_with_stats_math_background  DevOps  \\\n",
       "0                       0  ...                                     0       0   \n",
       "1                       0  ...                                     0       1   \n",
       "2                       0  ...                                     0       0   \n",
       "3                       0  ...                                     0       0   \n",
       "4                       0  ...                                     0       0   \n",
       "\n",
       "   Embedded_developer  Graphic_designer  Graphics_programming  \\\n",
       "0                   1                 0                     0   \n",
       "1                   1                 0                     0   \n",
       "2                   0                 0                     0   \n",
       "3                   0                 0                     0   \n",
       "4                   0                 0                     0   \n",
       "\n",
       "   Machine_learning_specialist  Mobile_developer  Quality_assurance_engineer  \\\n",
       "0                            0                 0                           0   \n",
       "1                            0                 0                           1   \n",
       "2                            0                 0                           0   \n",
       "3                            0                 0                           0   \n",
       "4                            0                 0                           0   \n",
       "\n",
       "   Systems_administrator  Web_developer  \n",
       "0                      0              0  \n",
       "1                      0              1  \n",
       "2                      0              1  \n",
       "3                      0              1  \n",
       "4                      0              1  \n",
       "\n",
       "[5 rows x 21 columns]"
      ]
     },
     "execution_count": 33,
     "metadata": {},
     "output_type": "execute_result"
    }
   ],
   "source": [
    "#Loading Data\n",
    "df = pd.read_csv(\"stackoverflow.csv\")\n",
    "df.head()"
   ]
  },
  {
   "cell_type": "markdown",
   "metadata": {
    "id": "lliKNTpDsb6d"
   },
   "source": [
    "# Data Analysis"
   ]
  },
  {
   "cell_type": "code",
   "execution_count": 34,
   "metadata": {
    "colab": {
     "base_uri": "https://localhost:8080/",
     "height": 49
    },
    "executionInfo": {
     "elapsed": 12,
     "status": "ok",
     "timestamp": 1669123284822,
     "user": {
      "displayName": "Diogo Resende",
      "userId": "05706604408624562002"
     },
     "user_tz": -60
    },
    "id": "GJTSHwY_smYe",
    "outputId": "b42a31ad-f192-43ac-a887-aba96e758a75"
   },
   "outputs": [
    {
     "data": {
      "application/vnd.microsoft.datawrangler.viewer.v0+json": {
       "columns": [
        {
         "name": "index",
         "rawType": "int64",
         "type": "integer"
        },
        {
         "name": "Country",
         "rawType": "object",
         "type": "string"
        },
        {
         "name": "Salary",
         "rawType": "float64",
         "type": "float"
        },
        {
         "name": "YearsCodedJob",
         "rawType": "int64",
         "type": "integer"
        },
        {
         "name": "OpenSource",
         "rawType": "int64",
         "type": "integer"
        },
        {
         "name": "Hobby",
         "rawType": "int64",
         "type": "integer"
        },
        {
         "name": "CompanySizeNumber",
         "rawType": "int64",
         "type": "integer"
        },
        {
         "name": "Remote",
         "rawType": "object",
         "type": "string"
        },
        {
         "name": "CareerSatisfaction",
         "rawType": "int64",
         "type": "integer"
        }
       ],
       "ref": "5c1a2624-e7bd-456a-81f9-1a87012169e4",
       "rows": [],
       "shape": {
        "columns": 8,
        "rows": 0
       }
      },
      "text/html": [
       "<div>\n",
       "<style scoped>\n",
       "    .dataframe tbody tr th:only-of-type {\n",
       "        vertical-align: middle;\n",
       "    }\n",
       "\n",
       "    .dataframe tbody tr th {\n",
       "        vertical-align: top;\n",
       "    }\n",
       "\n",
       "    .dataframe thead th {\n",
       "        text-align: right;\n",
       "    }\n",
       "</style>\n",
       "<table border=\"1\" class=\"dataframe\">\n",
       "  <thead>\n",
       "    <tr style=\"text-align: right;\">\n",
       "      <th></th>\n",
       "      <th>Country</th>\n",
       "      <th>Salary</th>\n",
       "      <th>YearsCodedJob</th>\n",
       "      <th>OpenSource</th>\n",
       "      <th>Hobby</th>\n",
       "      <th>CompanySizeNumber</th>\n",
       "      <th>Remote</th>\n",
       "      <th>CareerSatisfaction</th>\n",
       "    </tr>\n",
       "  </thead>\n",
       "  <tbody>\n",
       "  </tbody>\n",
       "</table>\n",
       "</div>"
      ],
      "text/plain": [
       "Empty DataFrame\n",
       "Columns: [Country, Salary, YearsCodedJob, OpenSource, Hobby, CompanySizeNumber, Remote, CareerSatisfaction]\n",
       "Index: []"
      ]
     },
     "execution_count": 34,
     "metadata": {},
     "output_type": "execute_result"
    }
   ],
   "source": [
    "#Picking variables\n",
    "df = df.iloc[:,:8]\n",
    "df.head(0)"
   ]
  },
  {
   "cell_type": "code",
   "execution_count": 35,
   "metadata": {
    "colab": {
     "base_uri": "https://localhost:8080/",
     "height": 162
    },
    "executionInfo": {
     "elapsed": 11,
     "status": "ok",
     "timestamp": 1669123284823,
     "user": {
      "displayName": "Diogo Resende",
      "userId": "05706604408624562002"
     },
     "user_tz": -60
    },
    "id": "fCJBGCmWs85K",
    "outputId": "e34e434d-24cf-4bf8-ba53-28cffa1f0be8"
   },
   "outputs": [
    {
     "data": {
      "application/vnd.microsoft.datawrangler.viewer.v0+json": {
       "columns": [
        {
         "name": "index",
         "rawType": "int64",
         "type": "integer"
        },
        {
         "name": "Salary",
         "rawType": "float64",
         "type": "float"
        },
        {
         "name": "YearsCodedJob",
         "rawType": "int64",
         "type": "integer"
        },
        {
         "name": "OpenSource",
         "rawType": "int64",
         "type": "integer"
        },
        {
         "name": "Hobby",
         "rawType": "int64",
         "type": "integer"
        },
        {
         "name": "CompanySizeNumber",
         "rawType": "int64",
         "type": "integer"
        },
        {
         "name": "CareerSatisfaction",
         "rawType": "int64",
         "type": "integer"
        },
        {
         "name": "Country_Germany",
         "rawType": "float64",
         "type": "float"
        },
        {
         "name": "Country_India",
         "rawType": "float64",
         "type": "float"
        },
        {
         "name": "Country_United Kingdom",
         "rawType": "float64",
         "type": "float"
        },
        {
         "name": "Country_United States",
         "rawType": "float64",
         "type": "float"
        },
        {
         "name": "Remote_Remote",
         "rawType": "float64",
         "type": "float"
        }
       ],
       "ref": "1262da83-8515-4712-b979-43a687b5f63e",
       "rows": [
        [
         "0",
         "100000.0",
         "20",
         "0",
         "1",
         "5000",
         "8",
         "0.0",
         "0.0",
         "1.0",
         "0.0",
         "1.0"
        ]
       ],
       "shape": {
        "columns": 11,
        "rows": 1
       }
      },
      "text/html": [
       "<div>\n",
       "<style scoped>\n",
       "    .dataframe tbody tr th:only-of-type {\n",
       "        vertical-align: middle;\n",
       "    }\n",
       "\n",
       "    .dataframe tbody tr th {\n",
       "        vertical-align: top;\n",
       "    }\n",
       "\n",
       "    .dataframe thead th {\n",
       "        text-align: right;\n",
       "    }\n",
       "</style>\n",
       "<table border=\"1\" class=\"dataframe\">\n",
       "  <thead>\n",
       "    <tr style=\"text-align: right;\">\n",
       "      <th></th>\n",
       "      <th>Salary</th>\n",
       "      <th>YearsCodedJob</th>\n",
       "      <th>OpenSource</th>\n",
       "      <th>Hobby</th>\n",
       "      <th>CompanySizeNumber</th>\n",
       "      <th>CareerSatisfaction</th>\n",
       "      <th>Country_Germany</th>\n",
       "      <th>Country_India</th>\n",
       "      <th>Country_United Kingdom</th>\n",
       "      <th>Country_United States</th>\n",
       "      <th>Remote_Remote</th>\n",
       "    </tr>\n",
       "  </thead>\n",
       "  <tbody>\n",
       "    <tr>\n",
       "      <th>0</th>\n",
       "      <td>100000.0</td>\n",
       "      <td>20</td>\n",
       "      <td>0</td>\n",
       "      <td>1</td>\n",
       "      <td>5000</td>\n",
       "      <td>8</td>\n",
       "      <td>0.0</td>\n",
       "      <td>0.0</td>\n",
       "      <td>1.0</td>\n",
       "      <td>0.0</td>\n",
       "      <td>1.0</td>\n",
       "    </tr>\n",
       "  </tbody>\n",
       "</table>\n",
       "</div>"
      ],
      "text/plain": [
       "     Salary  YearsCodedJob  OpenSource  Hobby  CompanySizeNumber  \\\n",
       "0  100000.0             20           0      1               5000   \n",
       "\n",
       "   CareerSatisfaction  Country_Germany  Country_India  Country_United Kingdom  \\\n",
       "0                   8              0.0            0.0                     1.0   \n",
       "\n",
       "   Country_United States  Remote_Remote  \n",
       "0                    0.0            1.0  "
      ]
     },
     "execution_count": 35,
     "metadata": {},
     "output_type": "execute_result"
    }
   ],
   "source": [
    "#Transforming character variables\n",
    "df = pd.get_dummies(df, drop_first= True, dtype=float)\n",
    "df.head(1)"
   ]
  },
  {
   "cell_type": "code",
   "execution_count": 36,
   "metadata": {
    "colab": {
     "base_uri": "https://localhost:8080/",
     "height": 225
    },
    "executionInfo": {
     "elapsed": 6,
     "status": "ok",
     "timestamp": 1669123285368,
     "user": {
      "displayName": "Diogo Resende",
      "userId": "05706604408624562002"
     },
     "user_tz": -60
    },
    "id": "LWmnC55NtP1j",
    "outputId": "2076ef71-4f13-484f-87ce-b9c976a450c8"
   },
   "outputs": [
    {
     "data": {
      "application/vnd.microsoft.datawrangler.viewer.v0+json": {
       "columns": [
        {
         "name": "Remote_Remote",
         "rawType": "float64",
         "type": "float"
        },
        {
         "name": "Salary",
         "rawType": "float64",
         "type": "float"
        },
        {
         "name": "YearsCodedJob",
         "rawType": "float64",
         "type": "float"
        },
        {
         "name": "OpenSource",
         "rawType": "float64",
         "type": "float"
        },
        {
         "name": "Hobby",
         "rawType": "float64",
         "type": "float"
        },
        {
         "name": "CompanySizeNumber",
         "rawType": "float64",
         "type": "float"
        },
        {
         "name": "CareerSatisfaction",
         "rawType": "float64",
         "type": "float"
        },
        {
         "name": "Country_Germany",
         "rawType": "float64",
         "type": "float"
        },
        {
         "name": "Country_India",
         "rawType": "float64",
         "type": "float"
        },
        {
         "name": "Country_United Kingdom",
         "rawType": "float64",
         "type": "float"
        },
        {
         "name": "Country_United States",
         "rawType": "float64",
         "type": "float"
        }
       ],
       "ref": "a609300a-9f08-4fb5-91d0-2ceb653d26c5",
       "rows": [
        [
         "0.0",
         "70201.17504150867",
         "7.142857142857143",
         "0.3327356047021319",
         "0.7605100617652919",
         "2187.3255628611278",
         "7.551105797967723",
         "0.14285714285714285",
         "0.09603506674636382",
         "0.18987846184498905",
         "0.4801753337318191"
        ],
        [
         "1.0",
         "87400.73700080522",
         "10.12",
         "0.4434782608695652",
         "0.7669565217391304",
         "1712.7565217391304",
         "7.855652173913043",
         "0.06956521739130435",
         "0.09739130434782609",
         "0.12173913043478261",
         "0.662608695652174"
        ]
       ],
       "shape": {
        "columns": 10,
        "rows": 2
       }
      },
      "text/html": [
       "<div>\n",
       "<style scoped>\n",
       "    .dataframe tbody tr th:only-of-type {\n",
       "        vertical-align: middle;\n",
       "    }\n",
       "\n",
       "    .dataframe tbody tr th {\n",
       "        vertical-align: top;\n",
       "    }\n",
       "\n",
       "    .dataframe thead th {\n",
       "        text-align: right;\n",
       "    }\n",
       "</style>\n",
       "<table border=\"1\" class=\"dataframe\">\n",
       "  <thead>\n",
       "    <tr style=\"text-align: right;\">\n",
       "      <th></th>\n",
       "      <th>Salary</th>\n",
       "      <th>YearsCodedJob</th>\n",
       "      <th>OpenSource</th>\n",
       "      <th>Hobby</th>\n",
       "      <th>CompanySizeNumber</th>\n",
       "      <th>CareerSatisfaction</th>\n",
       "      <th>Country_Germany</th>\n",
       "      <th>Country_India</th>\n",
       "      <th>Country_United Kingdom</th>\n",
       "      <th>Country_United States</th>\n",
       "    </tr>\n",
       "    <tr>\n",
       "      <th>Remote_Remote</th>\n",
       "      <th></th>\n",
       "      <th></th>\n",
       "      <th></th>\n",
       "      <th></th>\n",
       "      <th></th>\n",
       "      <th></th>\n",
       "      <th></th>\n",
       "      <th></th>\n",
       "      <th></th>\n",
       "      <th></th>\n",
       "    </tr>\n",
       "  </thead>\n",
       "  <tbody>\n",
       "    <tr>\n",
       "      <th>0.0</th>\n",
       "      <td>70201.175042</td>\n",
       "      <td>7.142857</td>\n",
       "      <td>0.332736</td>\n",
       "      <td>0.760510</td>\n",
       "      <td>2187.325563</td>\n",
       "      <td>7.551106</td>\n",
       "      <td>0.142857</td>\n",
       "      <td>0.096035</td>\n",
       "      <td>0.189878</td>\n",
       "      <td>0.480175</td>\n",
       "    </tr>\n",
       "    <tr>\n",
       "      <th>1.0</th>\n",
       "      <td>87400.737001</td>\n",
       "      <td>10.120000</td>\n",
       "      <td>0.443478</td>\n",
       "      <td>0.766957</td>\n",
       "      <td>1712.756522</td>\n",
       "      <td>7.855652</td>\n",
       "      <td>0.069565</td>\n",
       "      <td>0.097391</td>\n",
       "      <td>0.121739</td>\n",
       "      <td>0.662609</td>\n",
       "    </tr>\n",
       "  </tbody>\n",
       "</table>\n",
       "</div>"
      ],
      "text/plain": [
       "                     Salary  YearsCodedJob  OpenSource     Hobby  \\\n",
       "Remote_Remote                                                      \n",
       "0.0            70201.175042       7.142857    0.332736  0.760510   \n",
       "1.0            87400.737001      10.120000    0.443478  0.766957   \n",
       "\n",
       "               CompanySizeNumber  CareerSatisfaction  Country_Germany  \\\n",
       "Remote_Remote                                                           \n",
       "0.0                  2187.325563            7.551106         0.142857   \n",
       "1.0                  1712.756522            7.855652         0.069565   \n",
       "\n",
       "               Country_India  Country_United Kingdom  Country_United States  \n",
       "Remote_Remote                                                                \n",
       "0.0                 0.096035                0.189878               0.480175  \n",
       "1.0                 0.097391                0.121739               0.662609  "
      ]
     },
     "execution_count": 36,
     "metadata": {},
     "output_type": "execute_result"
    }
   ],
   "source": [
    "#Looking at Group means\n",
    "df.groupby('Remote_Remote').mean()"
   ]
  },
  {
   "cell_type": "code",
   "execution_count": 37,
   "metadata": {
    "colab": {
     "base_uri": "https://localhost:8080/"
    },
    "executionInfo": {
     "elapsed": 366,
     "status": "ok",
     "timestamp": 1669123287449,
     "user": {
      "displayName": "Diogo Resende",
      "userId": "05706604408624562002"
     },
     "user_tz": -60
    },
    "id": "TyWGTDOJtlch",
    "outputId": "fa9d7e40-1a4c-46b1-a77f-4b6fe679bf30"
   },
   "outputs": [
    {
     "name": "stdout",
     "output_type": "stream",
     "text": [
      "                     pvalue\n",
      "Salary         1.057708e-22\n",
      "YearsCodedJob  3.637316e-30\n"
     ]
    }
   ],
   "source": [
    "#T-tests\n",
    "#stating which variables to test\n",
    "continuous = ['Salary', 'YearsCodedJob']\n",
    "\n",
    "#Where to store results\n",
    "stat = {}\n",
    "pvalue = {}\n",
    "\n",
    "#Loop\n",
    "for x in continuous:\n",
    "  group1 = df.where(df.Remote_Remote == 0).dropna()[x]\n",
    "  group2 = df.where(df.Remote_Remote == 1).dropna()[x]\n",
    "  stat[x], pvalue[x] = ss.ttest_ind(group1, group2)\n",
    "ttests = pd.DataFrame.from_dict(pvalue, orient = 'Index')\n",
    "ttests.columns = ['pvalue']\n",
    "print(ttests)"
   ]
  },
  {
   "cell_type": "markdown",
   "metadata": {
    "id": "rWagzwH8uyZl"
   },
   "source": [
    "# Matching"
   ]
  },
  {
   "cell_type": "code",
   "execution_count": 38,
   "metadata": {
    "executionInfo": {
     "elapsed": 272,
     "status": "ok",
     "timestamp": 1669123289374,
     "user": {
      "displayName": "Diogo Resende",
      "userId": "05706604408624562002"
     },
     "user_tz": -60
    },
    "id": "MsyGCq6Zuzq1"
   },
   "outputs": [],
   "source": [
    "#Isolate y, treat, confounders\n",
    "y = df.CareerSatisfaction.values \n",
    "treat = df.Remote_Remote.values \n",
    "confounders = df.drop(columns = [\"Remote_Remote\",\n",
    "                                 \"CareerSatisfaction\"]).values"
   ]
  },
  {
   "cell_type": "code",
   "execution_count": 39,
   "metadata": {
    "colab": {
     "base_uri": "https://localhost:8080/"
    },
    "executionInfo": {
     "elapsed": 1438,
     "status": "ok",
     "timestamp": 1669123292425,
     "user": {
      "displayName": "Diogo Resende",
      "userId": "05706604408624562002"
     },
     "user_tz": -60
    },
    "id": "k2f6nDWrvJo0",
    "outputId": "b04d70c6-f73d-4ac1-e8d2-03307d6130b8"
   },
   "outputs": [
    {
     "name": "stdout",
     "output_type": "stream",
     "text": [
      "\n",
      "Treatment Effect Estimates: Matching\n",
      "\n",
      "                     Est.       S.e.          z      P>|z|      [95% Conf. int.]\n",
      "--------------------------------------------------------------------------------\n",
      "           ATE      0.114      0.130      0.881      0.378     -0.140      0.368\n",
      "           ATC      0.106      0.136      0.778      0.436     -0.161      0.372\n",
      "           ATT      0.187      0.142      1.321      0.187     -0.090      0.464\n",
      "\n"
     ]
    }
   ],
   "source": [
    "#Matching\n",
    "model = CausalModel(y, treat, confounders)\n",
    "model.est_via_matching(bias_adj = True)\n",
    "print(model.estimates)"
   ]
  },
  {
   "cell_type": "markdown",
   "metadata": {
    "id": "JVCoIL-Lvo9-"
   },
   "source": [
    "# Robustness check"
   ]
  },
  {
   "cell_type": "code",
   "execution_count": 40,
   "metadata": {
    "executionInfo": {
     "elapsed": 245,
     "status": "ok",
     "timestamp": 1669123295416,
     "user": {
      "displayName": "Diogo Resende",
      "userId": "05706604408624562002"
     },
     "user_tz": -60
    },
    "id": "qLc_ofpIvqwg"
   },
   "outputs": [],
   "source": [
    "#Remove 1 confounder\n",
    "confounders = df.drop(columns = [\"Remote_Remote\",\n",
    "                                 \"CareerSatisfaction\",\n",
    "                                 \"Hobby\",\n",
    "                                 \"CompanySizeNumber\"]).values"
   ]
  },
  {
   "cell_type": "code",
   "execution_count": 41,
   "metadata": {
    "colab": {
     "base_uri": "https://localhost:8080/"
    },
    "executionInfo": {
     "elapsed": 1643,
     "status": "ok",
     "timestamp": 1669123298502,
     "user": {
      "displayName": "Diogo Resende",
      "userId": "05706604408624562002"
     },
     "user_tz": -60
    },
    "id": "nuSgJ-3kv0-y",
    "outputId": "6aa1e555-5294-4544-e4f9-b71c41868bb2"
   },
   "outputs": [
    {
     "name": "stdout",
     "output_type": "stream",
     "text": [
      "\n",
      "Treatment Effect Estimates: Matching\n",
      "\n",
      "                     Est.       S.e.          z      P>|z|      [95% Conf. int.]\n",
      "--------------------------------------------------------------------------------\n",
      "           ATE      0.200      0.128      1.557      0.119     -0.052      0.451\n",
      "           ATC      0.202      0.135      1.495      0.135     -0.063      0.467\n",
      "           ATT      0.180      0.126      1.426      0.154     -0.067      0.427\n",
      "\n"
     ]
    }
   ],
   "source": [
    "#Matching\n",
    "model = CausalModel(y, treat, confounders)\n",
    "model.est_via_matching(bias_adj = True)\n",
    "print(model.estimates)"
   ]
  },
  {
   "cell_type": "code",
   "execution_count": null,
   "metadata": {},
   "outputs": [],
   "source": []
  }
 ],
 "metadata": {
  "colab": {
   "authorship_tag": "ABX9TyNzbGzzGlL1NfWTOvN67nKK",
   "mount_file_id": "1cnY2lUX41NmZYkyRfS3QYru19mKPuG9F",
   "provenance": []
  },
  "kernelspec": {
   "display_name": "Python 3",
   "name": "python3"
  },
  "language_info": {
   "codemirror_mode": {
    "name": "ipython",
    "version": 3
   },
   "file_extension": ".py",
   "mimetype": "text/x-python",
   "name": "python",
   "nbconvert_exporter": "python",
   "pygments_lexer": "ipython3",
   "version": "3.13.2"
  }
 },
 "nbformat": 4,
 "nbformat_minor": 0
}
